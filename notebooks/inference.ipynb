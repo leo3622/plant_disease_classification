{
 "cells": [
  {
   "cell_type": "code",
   "execution_count": null,
   "id": "90695602",
   "metadata": {},
   "outputs": [],
   "source": [
    "import time\n",
    "import pandas as pd\n",
    "from tensorflow.keras.models import load_model\n",
    "from data_preprocessing import load_dataset"
   ]
  },
  {
   "cell_type": "code",
   "execution_count": null,
   "id": "5ce476d3",
   "metadata": {},
   "outputs": [],
   "source": [
    "# Adjust the import paths as necessary\n",
    "base_model = load_model('base_student_model.h5')\n",
    "distilled_model = load_model('distill_student_model.h5')\n",
    "teacher_model = load_model('resnet152_plant_disease.h5')"
   ]
  },
  {
   "cell_type": "code",
   "execution_count": null,
   "id": "4de9601d",
   "metadata": {},
   "outputs": [],
   "source": [
    "base_model.summary()"
   ]
  },
  {
   "cell_type": "code",
   "execution_count": null,
   "id": "1c354a61",
   "metadata": {},
   "outputs": [],
   "source": [
    "distilled_model.summary()"
   ]
  },
  {
   "cell_type": "code",
   "execution_count": null,
   "id": "ec4c54c2",
   "metadata": {},
   "outputs": [],
   "source": [
    "teacher_model.summary()"
   ]
  },
  {
   "cell_type": "code",
   "execution_count": null,
   "id": "4b5d00df",
   "metadata": {},
   "outputs": [],
   "source": [
    "train_ds, val_ds, test_ds, class_names, num_classes = load_dataset()"
   ]
  },
  {
   "cell_type": "code",
   "execution_count": null,
   "id": "f4e0b1a5",
   "metadata": {},
   "outputs": [],
   "source": [
    "baseline_eval = base_model.evaluate(test_ds.map(lambda inputs, label: (inputs[1], label)), return_dict=True)\n",
    "distilled_eval = distilled_model.evaluate(test_ds.map(lambda inputs, label: (inputs[1], label)), return_dict=True)\n",
    "teacher_eval = teacher_model.evaluate(test_ds.map(lambda inputs, label: (inputs[0], label)), return_dict=True)"
   ]
  },
  {
   "cell_type": "code",
   "execution_count": null,
   "id": "35944252",
   "metadata": {},
   "outputs": [],
   "source": [
    "\n",
    "\n",
    "# Prepare a batch of test images (1 or more)\n",
    "test_images = next(iter(test_ds.take(1)))[0]  # Get images only (without labels)\n",
    "\n",
    "# Measure teacher model inference time\n",
    "start_time = time.time()\n",
    "_ = teacher_model.predict(test_images[0])\n",
    "teacher_time = time.time() - start_time\n",
    "\n",
    "# Measure student model inference time\n",
    "start_time = time.time()\n",
    "_ = distilled_model.predict(test_images[1])\n",
    "distilled_model_time = time.time() - start_time\n",
    "\n",
    "start_time = time.time()\n",
    "_ = base_model.predict(test_images[1])\n",
    "base_time = time.time() - start_time\n"
   ]
  },
  {
   "cell_type": "code",
   "execution_count": null,
   "id": "a50a2800",
   "metadata": {},
   "outputs": [],
   "source": [
    "# Create table data\n",
    "data = [\n",
    "    {\n",
    "        \"Model\": \"Teacher (ResNet152)\",\n",
    "        \"Train Samples\": 12000,\n",
    "        \"Epochs\": 12,\n",
    "        \"Input Size\": \"224x224\",\n",
    "        \"Accuracy\": round(teacher_eval['accuracy'], 4),\n",
    "        \"Loss\": round(teacher_eval['loss'], 4),\n",
    "        \"Model Size (# Parameters)\": 58638120,\n",
    "        \"Inference Time\": teacher_time\n",
    "    },\n",
    "    {\n",
    "        \"Model\": \"Base Mobilenetv2\",\n",
    "        \"Train Samples\": 12000,\n",
    "        \"Epochs\": 80,\n",
    "        \"Input Size\": \"224x224\",\n",
    "        \"Accuracy\": round(baseline_eval['sparse_categorical_accuracy'], 4),\n",
    "        \"Loss\": round(baseline_eval['loss'], 4),\n",
    "        \"Model Size (# Parameters)\": 2595688,\n",
    "        \"Inference Time\": base_time\n",
    "    },\n",
    "    {\n",
    "        \"Model\": \"Student (Distilled_Mobilenetv2)\",\n",
    "        \"Train Samples\": 12000,\n",
    "        \"Epochs\": 80,\n",
    "        \"Input Size\": \"224x224\",\n",
    "        \"Accuracy\": round(distilled_eval['sparse_categorical_accuracy'], 4),\n",
    "        \"Loss\": round(distilled_eval['loss'], 4),\n",
    "        \"Model Size (# Parameters)\": 2595688,\n",
    "        \"Inference Time\": distilled_model_time\n",
    "    }\n",
    "]\n",
    "\n",
    "# Create DataFrame\n",
    "df = pd.DataFrame(data)\n",
    "df\n"
   ]
  }
 ],
 "metadata": {
  "kernelspec": {
   "display_name": "Python 3",
   "language": "python",
   "name": "python3"
  },
  "language_info": {
   "codemirror_mode": {
    "name": "ipython",
    "version": 3
   },
   "file_extension": ".py",
   "mimetype": "text/x-python",
   "name": "python",
   "nbconvert_exporter": "python",
   "pygments_lexer": "ipython3",
   "version": "3.10.12"
  }
 },
 "nbformat": 4,
 "nbformat_minor": 5
}
